{
  "nbformat": 4,
  "nbformat_minor": 0,
  "metadata": {
    "colab": {
      "provenance": [],
      "authorship_tag": "ABX9TyPLZSyQlUNf6/DckQnxrtM1",
      "include_colab_link": true
    },
    "kernelspec": {
      "name": "python3",
      "display_name": "Python 3"
    },
    "language_info": {
      "name": "python"
    }
  },
  "cells": [
    {
      "cell_type": "markdown",
      "metadata": {
        "id": "view-in-github",
        "colab_type": "text"
      },
      "source": [
        "<a href=\"https://colab.research.google.com/github/naomiyjchen/clone_private_github_repo_in_colab/blob/main/clone_private_github_repo_in_colab.ipynb\" target=\"_parent\"><img src=\"https://colab.research.google.com/assets/colab-badge.svg\" alt=\"Open In Colab\"/></a>"
      ]
    },
    {
      "cell_type": "markdown",
      "source": [
        "# Cloning a private github repo in colab with ssh"
      ],
      "metadata": {
        "id": "fiwuCvSmj4E0"
      }
    },
    {
      "cell_type": "markdown",
      "source": [
        "## Step 1: Generate a new SSH key\n",
        "It will prompt to enter a password. Hit enter to skip setting a password and do the same for entering the same passphrase again."
      ],
      "metadata": {
        "id": "e9i9V43AhCZf"
      }
    },
    {
      "cell_type": "code",
      "execution_count": 1,
      "metadata": {
        "colab": {
          "base_uri": "https://localhost:8080/"
        },
        "id": "CqKJuhWfRp9e",
        "outputId": "1f4ec37e-abb7-4831-825a-1f21725bdb04"
      },
      "outputs": [
        {
          "output_type": "stream",
          "name": "stdout",
          "text": [
            "Generating public/private ed25519 key pair.\n",
            "Enter file in which to save the key (/root/.ssh/id_ed25519): \n",
            "Created directory '/root/.ssh'.\n",
            "Enter passphrase (empty for no passphrase): \n",
            "Enter same passphrase again: \n",
            "Your identification has been saved in /root/.ssh/id_ed25519\n",
            "Your public key has been saved in /root/.ssh/id_ed25519.pub\n",
            "The key fingerprint is:\n",
            "SHA256:UDcZLjfEQLbn2kIVyT3F2qVCT6hHbIfR1AEeStNuWRE naomichen.yj@gmail.com\n",
            "The key's randomart image is:\n",
            "+--[ED25519 256]--+\n",
            "|       .=+*Oo@+E+|\n",
            "|       o =*o&.*.o|\n",
            "|      . o **.Ooo |\n",
            "|       . *..+++  |\n",
            "|        S ....   |\n",
            "|       . o       |\n",
            "|        o .      |\n",
            "|         .       |\n",
            "|                 |\n",
            "+----[SHA256]-----+\n"
          ]
        },
        {
          "output_type": "execute_result",
          "data": {
            "text/plain": []
          },
          "metadata": {},
          "execution_count": 1
        }
      ],
      "source": [
        "%%shell\n",
        "ssh-keygen -t ed25519 -C \"naomichen.yj@gmail.com\""
      ]
    },
    {
      "cell_type": "markdown",
      "source": [
        "## Step 2: Add SSH key fingerprints"
      ],
      "metadata": {
        "id": "Ju2hCc7_hPFT"
      }
    },
    {
      "cell_type": "code",
      "source": [
        "# Add github.com to our known hosts\n",
        "! ssh-keyscan -t ed25519 github.com >> ~/.ssh/known_hosts\n",
        "# Restrict the key permissions, or else SSH will complain.\n",
        "! chmod go-rwx /root/.ssh/id_ed25519"
      ],
      "metadata": {
        "colab": {
          "base_uri": "https://localhost:8080/"
        },
        "id": "zuPyEGMtU9CW",
        "outputId": "7d00f79a-57dd-4e21-cb86-c11c87abfdaf"
      },
      "execution_count": 2,
      "outputs": [
        {
          "output_type": "stream",
          "name": "stdout",
          "text": [
            "\n",
            "# github.com:22 SSH-2.0-babeld-51390fc7\n"
          ]
        }
      ]
    },
    {
      "cell_type": "markdown",
      "source": [
        "## Step 3: Get the SSH key, copy it and add the key to Github following [this documentation ](https://docs.github.com/en/github/authenticating-to-github/adding-a-new-ssh-key-to-your-github-account)\n",
        "* or you can add it to the deploy key of your private repo, this will only allow you to access one private repo"
      ],
      "metadata": {
        "id": "4gNiYMlMhfTs"
      }
    },
    {
      "cell_type": "code",
      "source": [
        "!cat /root/.ssh/id_ed25519.pub"
      ],
      "metadata": {
        "colab": {
          "base_uri": "https://localhost:8080/"
        },
        "id": "038suLbwSN6i",
        "outputId": "9b315518-a4a9-4e18-c199-1895ae34727f"
      },
      "execution_count": 3,
      "outputs": [
        {
          "output_type": "stream",
          "name": "stdout",
          "text": [
            "ssh-ed25519 AAAAC3NzaC1lZDI1NTE5AAAAILlZWlmi1T4XYt3Z9xcXQEnZUsRPjff9lEYa/ajAvQ11 naomichen.yj@gmail.com\n"
          ]
        }
      ]
    },
    {
      "cell_type": "markdown",
      "source": [
        "## Step 4: Test SSH key"
      ],
      "metadata": {
        "id": "PtF88Ljcgg6V"
      }
    },
    {
      "cell_type": "code",
      "source": [
        "!ssh -T git@github.com"
      ],
      "metadata": {
        "colab": {
          "base_uri": "https://localhost:8080/"
        },
        "id": "5kogr2C_a0wq",
        "outputId": "a8ae339a-19ba-433c-d2e1-1acd27f70b1d"
      },
      "execution_count": 4,
      "outputs": [
        {
          "output_type": "stream",
          "name": "stdout",
          "text": [
            "Warning: Permanently added the ED25519 host key for IP address '140.82.121.4' to the list of known hosts.\r\n",
            "Hi naomiyjchen! You've successfully authenticated, but GitHub does not provide shell access.\n"
          ]
        }
      ]
    },
    {
      "cell_type": "markdown",
      "source": [
        "## Step 5: Clone a private repository from Github"
      ],
      "metadata": {
        "id": "VwgNhVrFgyhZ"
      }
    },
    {
      "cell_type": "code",
      "source": [
        "!git clone git@github.com:naomiyjchen/clone_private_github_repo_in_colab.git"
      ],
      "metadata": {
        "colab": {
          "base_uri": "https://localhost:8080/"
        },
        "id": "ZV989ZyTT_9t",
        "outputId": "fe93ea58-8021-4eda-a40c-98695b84de5c"
      },
      "execution_count": 5,
      "outputs": [
        {
          "output_type": "stream",
          "name": "stdout",
          "text": [
            "Cloning into 'clone_private_github_repo_in_colab'...\n",
            "remote: Enumerating objects: 6, done.\u001b[K\n",
            "remote: Counting objects: 100% (6/6), done.\u001b[K\n",
            "remote: Compressing objects: 100% (5/5), done.\u001b[K\n",
            "remote: Total 6 (delta 0), reused 0 (delta 0), pack-reused 0\u001b[K\n",
            "Receiving objects: 100% (6/6), done.\n"
          ]
        }
      ]
    },
    {
      "cell_type": "markdown",
      "source": [],
      "metadata": {
        "id": "fR8GTMckjwen"
      }
    },
    {
      "cell_type": "markdown",
      "source": [
        "# Specify Git configuration settings\n",
        "Before you can commit and push code changes from Colab to the private repo in Github, you must be specified Git configuration settings. It can be achieved by"
      ],
      "metadata": {
        "id": "lx52o5IFjSxB"
      }
    },
    {
      "cell_type": "code",
      "source": [
        "!git config --global user.email \"naomichen.yj@gmail.com\"\n",
        "!git config --global user.name \"naomiyjchen\""
      ],
      "metadata": {
        "id": "1rjcC7eVjUtm"
      },
      "execution_count": 15,
      "outputs": []
    },
    {
      "cell_type": "code",
      "source": [],
      "metadata": {
        "id": "yDA-rEL8h16h"
      },
      "execution_count": null,
      "outputs": []
    }
  ]
}